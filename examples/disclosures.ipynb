{
 "cells": [
  {
   "cell_type": "markdown",
   "metadata": {},
   "source": [
    "# PSE disclosures"
   ]
  },
  {
   "cell_type": "code",
   "execution_count": 1,
   "metadata": {
    "ExecuteTime": {
     "end_time": "2020-04-10T03:37:10.980964Z",
     "start_time": "2020-04-10T03:37:10.879219Z"
    }
   },
   "outputs": [],
   "source": [
    "from fastquant import DisclosuresPSE"
   ]
  },
  {
   "cell_type": "markdown",
   "metadata": {},
   "source": [
    "## fetching company disclosures"
   ]
  },
  {
   "cell_type": "code",
   "execution_count": 2,
   "metadata": {},
   "outputs": [
    {
     "name": "stdout",
     "output_type": "stream",
     "text": [
      "Pulling JFC disclosures summary...\n"
     ]
    },
    {
     "name": "stderr",
     "output_type": "stream",
     "text": [
      "\r",
      "  0%|          | 0/1 [00:00<?, ?it/s]"
     ]
    },
    {
     "name": "stdout",
     "output_type": "stream",
     "text": [
      "1 pages detected!\n",
      "Found 10 disclosures between 1-1-2020 & 4-1-2020 with 3 types:\n",
      "['Press Release' 'Material Information/Transactions' 'Joint Ventures']\n",
      "Pulling details in all JFC disclosures...\n"
     ]
    },
    {
     "name": "stderr",
     "output_type": "stream",
     "text": [
      "\r",
      "100%|██████████| 1/1 [00:01<00:00,  1.40s/it]"
     ]
    },
    {
     "name": "stdout",
     "output_type": "stream",
     "text": [
      "Loaded: /home/jp/github/research/project/fastquant/fastquant/../data/JFC_disclosures_1-1-2020_4-1-2020.csv\n"
     ]
    },
    {
     "name": "stderr",
     "output_type": "stream",
     "text": [
      "\n"
     ]
    }
   ],
   "source": [
    "dpse = DisclosuresPSE(symbol='JFC', \n",
    "                      start_date='1-1-2020', \n",
    "                      end_date='4-1-2020'\n",
    "                     )"
   ]
  },
  {
   "cell_type": "code",
   "execution_count": 3,
   "metadata": {
    "scrolled": true
   },
   "outputs": [
    {
     "data": {
      "text/plain": [
       "DisclosuresPSE('JFC', 'all', '1-1-2020', '4-1-2020', True, False)"
      ]
     },
     "execution_count": 3,
     "metadata": {},
     "output_type": "execute_result"
    }
   ],
   "source": [
    "dpse"
   ]
  },
  {
   "cell_type": "code",
   "execution_count": 4,
   "metadata": {},
   "outputs": [
    {
     "data": {
      "text/html": [
       "<div>\n",
       "<style scoped>\n",
       "    .dataframe tbody tr th:only-of-type {\n",
       "        vertical-align: middle;\n",
       "    }\n",
       "\n",
       "    .dataframe tbody tr th {\n",
       "        vertical-align: top;\n",
       "    }\n",
       "\n",
       "    .dataframe thead th {\n",
       "        text-align: right;\n",
       "    }\n",
       "</style>\n",
       "<table border=\"1\" class=\"dataframe\">\n",
       "  <thead>\n",
       "    <tr style=\"text-align: right;\">\n",
       "      <th></th>\n",
       "      <th>Company Name</th>\n",
       "      <th>Template Name</th>\n",
       "      <th>PSE Form Number</th>\n",
       "      <th>Announce Date and Time</th>\n",
       "      <th>Circular Number</th>\n",
       "      <th>edge_no</th>\n",
       "      <th>url</th>\n",
       "    </tr>\n",
       "  </thead>\n",
       "  <tbody>\n",
       "    <tr>\n",
       "      <th>0</th>\n",
       "      <td>Jollibee Foods Corporation</td>\n",
       "      <td>Press Release</td>\n",
       "      <td>4-31</td>\n",
       "      <td>2020-03-20 07:16:00</td>\n",
       "      <td>C02127-2020</td>\n",
       "      <td>a5df62b1a9558fe60de8473cebbd6407</td>\n",
       "      <td>https://edge.pse.com.ph/openDiscViewer.do?edge...</td>\n",
       "    </tr>\n",
       "    <tr>\n",
       "      <th>1</th>\n",
       "      <td>Jollibee Foods Corporation</td>\n",
       "      <td>Press Release</td>\n",
       "      <td>4-31</td>\n",
       "      <td>2020-03-19 07:31:00</td>\n",
       "      <td>C02092-2020</td>\n",
       "      <td>6a7705d00b3e6fb50de8473cebbd6407</td>\n",
       "      <td>https://edge.pse.com.ph/openDiscViewer.do?edge...</td>\n",
       "    </tr>\n",
       "    <tr>\n",
       "      <th>2</th>\n",
       "      <td>Jollibee Foods Corporation</td>\n",
       "      <td>Material Information/Transactions</td>\n",
       "      <td>4-30</td>\n",
       "      <td>2020-03-16 12:49:00</td>\n",
       "      <td>C01925-2020</td>\n",
       "      <td>5b6a51f239ad5a6f0de8473cebbd6407</td>\n",
       "      <td>https://edge.pse.com.ph/openDiscViewer.do?edge...</td>\n",
       "    </tr>\n",
       "    <tr>\n",
       "      <th>3</th>\n",
       "      <td>Jollibee Foods Corporation</td>\n",
       "      <td>[Amend-1]Joint Ventures</td>\n",
       "      <td>4-22</td>\n",
       "      <td>2020-03-13 15:49:00</td>\n",
       "      <td>C01685-2020</td>\n",
       "      <td>21b9a26e7aa00f960de8473cebbd6407</td>\n",
       "      <td>https://edge.pse.com.ph/openDiscViewer.do?edge...</td>\n",
       "    </tr>\n",
       "    <tr>\n",
       "      <th>4</th>\n",
       "      <td>Jollibee Foods Corporation</td>\n",
       "      <td>Material Information/Transactions</td>\n",
       "      <td>4-30</td>\n",
       "      <td>2020-02-18 15:33:00</td>\n",
       "      <td>C01000-2020</td>\n",
       "      <td>ed56abaed2893f830de8473cebbd6407</td>\n",
       "      <td>https://edge.pse.com.ph/openDiscViewer.do?edge...</td>\n",
       "    </tr>\n",
       "  </tbody>\n",
       "</table>\n",
       "</div>"
      ],
      "text/plain": [
       "                 Company Name                      Template Name  \\\n",
       "0  Jollibee Foods Corporation                      Press Release   \n",
       "1  Jollibee Foods Corporation                      Press Release   \n",
       "2  Jollibee Foods Corporation  Material Information/Transactions   \n",
       "3  Jollibee Foods Corporation            [Amend-1]Joint Ventures   \n",
       "4  Jollibee Foods Corporation  Material Information/Transactions   \n",
       "\n",
       "  PSE Form Number Announce Date and Time Circular Number  \\\n",
       "0            4-31    2020-03-20 07:16:00     C02127-2020   \n",
       "1            4-31    2020-03-19 07:31:00     C02092-2020   \n",
       "2            4-30    2020-03-16 12:49:00     C01925-2020   \n",
       "3            4-22    2020-03-13 15:49:00     C01685-2020   \n",
       "4            4-30    2020-02-18 15:33:00     C01000-2020   \n",
       "\n",
       "                            edge_no  \\\n",
       "0  a5df62b1a9558fe60de8473cebbd6407   \n",
       "1  6a7705d00b3e6fb50de8473cebbd6407   \n",
       "2  5b6a51f239ad5a6f0de8473cebbd6407   \n",
       "3  21b9a26e7aa00f960de8473cebbd6407   \n",
       "4  ed56abaed2893f830de8473cebbd6407   \n",
       "\n",
       "                                                 url  \n",
       "0  https://edge.pse.com.ph/openDiscViewer.do?edge...  \n",
       "1  https://edge.pse.com.ph/openDiscViewer.do?edge...  \n",
       "2  https://edge.pse.com.ph/openDiscViewer.do?edge...  \n",
       "3  https://edge.pse.com.ph/openDiscViewer.do?edge...  \n",
       "4  https://edge.pse.com.ph/openDiscViewer.do?edge...  "
      ]
     },
     "execution_count": 4,
     "metadata": {},
     "output_type": "execute_result"
    }
   ],
   "source": [
    "# summary of each disclosure \n",
    "dpse.company_disclosures.head()"
   ]
  },
  {
   "cell_type": "code",
   "execution_count": 5,
   "metadata": {},
   "outputs": [
    {
     "data": {
      "text/html": [
       "<div>\n",
       "<style scoped>\n",
       "    .dataframe tbody tr th:only-of-type {\n",
       "        vertical-align: middle;\n",
       "    }\n",
       "\n",
       "    .dataframe tbody tr th {\n",
       "        vertical-align: top;\n",
       "    }\n",
       "\n",
       "    .dataframe thead th {\n",
       "        text-align: right;\n",
       "    }\n",
       "</style>\n",
       "<table border=\"1\" class=\"dataframe\">\n",
       "  <thead>\n",
       "    <tr style=\"text-align: right;\">\n",
       "      <th></th>\n",
       "      <th>Company Name</th>\n",
       "      <th>Template Name</th>\n",
       "      <th>PSE Form Number</th>\n",
       "      <th>Announce Date and Time</th>\n",
       "      <th>Circular Number</th>\n",
       "      <th>edge_no</th>\n",
       "      <th>url</th>\n",
       "      <th>disclosure_table</th>\n",
       "      <th>Background/Description of the Disclosure</th>\n",
       "      <th>Subject of the Disclosure</th>\n",
       "    </tr>\n",
       "  </thead>\n",
       "  <tbody>\n",
       "    <tr>\n",
       "      <th>0</th>\n",
       "      <td>Jollibee Foods Corporation</td>\n",
       "      <td>Press Release</td>\n",
       "      <td>4-31</td>\n",
       "      <td>2020-03-20 07:16:00</td>\n",
       "      <td>C02127-2020</td>\n",
       "      <td>a5df62b1a9558fe60de8473cebbd6407</td>\n",
       "      <td>https://edge.pse.com.ph/openDiscViewer.do?edge...</td>\n",
       "      <td>{\"Title of Each Class\": \"Common\", \"Subject of ...</td>\n",
       "      <td>Jollibee Foods Corporation (JFC) Chairman and ...</td>\n",
       "      <td>Jollibee Group allocates Php1 Billion Emergenc...</td>\n",
       "    </tr>\n",
       "    <tr>\n",
       "      <th>1</th>\n",
       "      <td>Jollibee Foods Corporation</td>\n",
       "      <td>Press Release</td>\n",
       "      <td>4-31</td>\n",
       "      <td>2020-03-19 07:31:00</td>\n",
       "      <td>C02092-2020</td>\n",
       "      <td>6a7705d00b3e6fb50de8473cebbd6407</td>\n",
       "      <td>https://edge.pse.com.ph/openDiscViewer.do?edge...</td>\n",
       "      <td>{\"Title of Each Class\": \"Common\", \"Subject of ...</td>\n",
       "      <td>In support of health workers and other frontli...</td>\n",
       "      <td>Jollibee Group Donates Php 100 Million worth o...</td>\n",
       "    </tr>\n",
       "    <tr>\n",
       "      <th>2</th>\n",
       "      <td>Jollibee Foods Corporation</td>\n",
       "      <td>Material Information/Transactions</td>\n",
       "      <td>4-30</td>\n",
       "      <td>2020-03-16 12:49:00</td>\n",
       "      <td>C01925-2020</td>\n",
       "      <td>5b6a51f239ad5a6f0de8473cebbd6407</td>\n",
       "      <td>https://edge.pse.com.ph/openDiscViewer.do?edge...</td>\n",
       "      <td>{\"Title of Each Class\": \"Common\", \"Subject of ...</td>\n",
       "      <td>This provides a brief summary for Jollibee Foo...</td>\n",
       "      <td>Risks, Impact on the Business and Mitigation M...</td>\n",
       "    </tr>\n",
       "    <tr>\n",
       "      <th>3</th>\n",
       "      <td>Jollibee Foods Corporation</td>\n",
       "      <td>[Amend-1]Joint Ventures</td>\n",
       "      <td>4-22</td>\n",
       "      <td>2020-03-13 15:49:00</td>\n",
       "      <td>C01685-2020</td>\n",
       "      <td>21b9a26e7aa00f960de8473cebbd6407</td>\n",
       "      <td>https://edge.pse.com.ph/openDiscViewer.do?edge...</td>\n",
       "      <td>{\"Title of Each Class\": \"COMMON\", \"Subject of ...</td>\n",
       "      <td>Golden Plate Pte. Ltd. (GPPL), a wholly owned ...</td>\n",
       "      <td>Jollibee Foods Corporation (JFC) and Dim Sum P...</td>\n",
       "    </tr>\n",
       "    <tr>\n",
       "      <th>4</th>\n",
       "      <td>Jollibee Foods Corporation</td>\n",
       "      <td>Material Information/Transactions</td>\n",
       "      <td>4-30</td>\n",
       "      <td>2020-02-18 15:33:00</td>\n",
       "      <td>C01000-2020</td>\n",
       "      <td>ed56abaed2893f830de8473cebbd6407</td>\n",
       "      <td>https://edge.pse.com.ph/openDiscViewer.do?edge...</td>\n",
       "      <td>{\"Title of Each Class\": \"Common\", \"Subject of ...</td>\n",
       "      <td>4th Quarter Unaudited Financial Statements for...</td>\n",
       "      <td>Results of the 4th Quarter Unaudited Financial...</td>\n",
       "    </tr>\n",
       "  </tbody>\n",
       "</table>\n",
       "</div>"
      ],
      "text/plain": [
       "                 Company Name                      Template Name  \\\n",
       "0  Jollibee Foods Corporation                      Press Release   \n",
       "1  Jollibee Foods Corporation                      Press Release   \n",
       "2  Jollibee Foods Corporation  Material Information/Transactions   \n",
       "3  Jollibee Foods Corporation            [Amend-1]Joint Ventures   \n",
       "4  Jollibee Foods Corporation  Material Information/Transactions   \n",
       "\n",
       "  PSE Form Number Announce Date and Time Circular Number  \\\n",
       "0            4-31    2020-03-20 07:16:00     C02127-2020   \n",
       "1            4-31    2020-03-19 07:31:00     C02092-2020   \n",
       "2            4-30    2020-03-16 12:49:00     C01925-2020   \n",
       "3            4-22    2020-03-13 15:49:00     C01685-2020   \n",
       "4            4-30    2020-02-18 15:33:00     C01000-2020   \n",
       "\n",
       "                            edge_no  \\\n",
       "0  a5df62b1a9558fe60de8473cebbd6407   \n",
       "1  6a7705d00b3e6fb50de8473cebbd6407   \n",
       "2  5b6a51f239ad5a6f0de8473cebbd6407   \n",
       "3  21b9a26e7aa00f960de8473cebbd6407   \n",
       "4  ed56abaed2893f830de8473cebbd6407   \n",
       "\n",
       "                                                 url  \\\n",
       "0  https://edge.pse.com.ph/openDiscViewer.do?edge...   \n",
       "1  https://edge.pse.com.ph/openDiscViewer.do?edge...   \n",
       "2  https://edge.pse.com.ph/openDiscViewer.do?edge...   \n",
       "3  https://edge.pse.com.ph/openDiscViewer.do?edge...   \n",
       "4  https://edge.pse.com.ph/openDiscViewer.do?edge...   \n",
       "\n",
       "                                    disclosure_table  \\\n",
       "0  {\"Title of Each Class\": \"Common\", \"Subject of ...   \n",
       "1  {\"Title of Each Class\": \"Common\", \"Subject of ...   \n",
       "2  {\"Title of Each Class\": \"Common\", \"Subject of ...   \n",
       "3  {\"Title of Each Class\": \"COMMON\", \"Subject of ...   \n",
       "4  {\"Title of Each Class\": \"Common\", \"Subject of ...   \n",
       "\n",
       "            Background/Description of the Disclosure  \\\n",
       "0  Jollibee Foods Corporation (JFC) Chairman and ...   \n",
       "1  In support of health workers and other frontli...   \n",
       "2  This provides a brief summary for Jollibee Foo...   \n",
       "3  Golden Plate Pte. Ltd. (GPPL), a wholly owned ...   \n",
       "4  4th Quarter Unaudited Financial Statements for...   \n",
       "\n",
       "                           Subject of the Disclosure  \n",
       "0  Jollibee Group allocates Php1 Billion Emergenc...  \n",
       "1  Jollibee Group Donates Php 100 Million worth o...  \n",
       "2  Risks, Impact on the Business and Mitigation M...  \n",
       "3  Jollibee Foods Corporation (JFC) and Dim Sum P...  \n",
       "4  Results of the 4th Quarter Unaudited Financial...  "
      ]
     },
     "execution_count": 5,
     "metadata": {},
     "output_type": "execute_result"
    }
   ],
   "source": [
    "# includes details\n",
    "dpse.disclosures_combined.head()"
   ]
  },
  {
   "cell_type": "code",
   "execution_count": 6,
   "metadata": {},
   "outputs": [
    {
     "data": {
      "text/plain": [
       "(6, 2)"
      ]
     },
     "execution_count": 6,
     "metadata": {},
     "output_type": "execute_result"
    }
   ],
   "source": [
    "#get details in each disclosure given edge_no\n",
    "dpse.disclosure_tables['a5df62b1a9558fe60de8473cebbd6407'].shape"
   ]
  },
  {
   "cell_type": "code",
   "execution_count": 7,
   "metadata": {},
   "outputs": [
    {
     "data": {
      "text/plain": [
       "0    Jollibee Group allocates Php1 Billion Emergenc...\n",
       "1    Jollibee Group Donates Php 100 Million worth o...\n",
       "2    Risks, Impact on the Business and Mitigation M...\n",
       "3    Jollibee Foods Corporation (JFC) and Dim Sum P...\n",
       "4    Results of the 4th Quarter Unaudited Financial...\n",
       "5    Press Release: 2019 4th Quarter Financial Results\n",
       "6          JFC Provides Statement on Business in China\n",
       "7    JFC to Issue US$600 Million Guaranteed Senior ...\n",
       "8    JFC to Issue US$600 Million Guaranteed Senior ...\n",
       "9    JFC Mandates Banks for U.S.$ Senior Guaranteed...\n",
       "Name: Subject of the Disclosure, dtype: object"
      ]
     },
     "execution_count": 7,
     "metadata": {},
     "output_type": "execute_result"
    }
   ],
   "source": [
    "dpse.disclosures_combined['Subject of the Disclosure']"
   ]
  },
  {
   "cell_type": "code",
   "execution_count": 8,
   "metadata": {},
   "outputs": [
    {
     "data": {
      "text/plain": [
       "0    Jollibee Foods Corporation (JFC) Chairman and ...\n",
       "1    In support of health workers and other frontli...\n",
       "2    This provides a brief summary for Jollibee Foo...\n",
       "3    Golden Plate Pte. Ltd. (GPPL), a wholly owned ...\n",
       "4    4th Quarter Unaudited Financial Statements for...\n",
       "5    JFC Same Store Sales Growth Improves, Gains fr...\n",
       "6    Jollibee Foods Corporation makes the following...\n",
       "7    Jollibee Foods Corporation (JFC, the “Guaranto...\n",
       "8    Jollibee Foods Corporation (JFC, the “Guaranto...\n",
       "9    Jollibee Worldwide Pte. Ltd. (JWPL, the “Issue...\n",
       "Name: Background/Description of the Disclosure, dtype: object"
      ]
     },
     "execution_count": 8,
     "metadata": {},
     "output_type": "execute_result"
    }
   ],
   "source": [
    "dpse.disclosures_combined['Background/Description of the Disclosure']"
   ]
  },
  {
   "cell_type": "markdown",
   "metadata": {},
   "source": [
    "## visualization"
   ]
  },
  {
   "cell_type": "code",
   "execution_count": 9,
   "metadata": {},
   "outputs": [
    {
     "data": {
      "text/plain": [
       "array(['Press Release', 'Material Information/Transactions',\n",
       "       'Joint Ventures'], dtype=object)"
      ]
     },
     "execution_count": 9,
     "metadata": {},
     "output_type": "execute_result"
    }
   ],
   "source": [
    "dpse.disclosure_types"
   ]
  },
  {
   "cell_type": "code",
   "execution_count": 10,
   "metadata": {},
   "outputs": [
    {
     "name": "stdout",
     "output_type": "stream",
     "text": [
      "Pulling JFC stock data...\n"
     ]
    },
    {
     "data": {
      "image/png": "[encoded data removed]",
      "text/plain": [
       "<Figure size 1080x720 with 1 Axes>"
      ]
     },
     "metadata": {},
     "output_type": "display_data"
    }
   ],
   "source": [
    "#all disclosures superposed with percent change\n",
    "fig = dpse.plot_disclosures()"
   ]
  },
  {
   "cell_type": "code",
   "execution_count": 11,
   "metadata": {},
   "outputs": [
    {
     "data": {
      "image/png": "[encoded data removed]",
      "text/plain": [
       "<Figure size 1080x720 with 1 Axes>"
      ]
     },
     "metadata": {},
     "output_type": "display_data"
    }
   ],
   "source": [
    "#all disclosures superposed with close price\n",
    "fig = dpse.plot_disclosures(data_type='close', diff=False, percent=False)"
   ]
  },
  {
   "cell_type": "markdown",
   "metadata": {},
   "source": [
    "## filtering disclosures"
   ]
  },
  {
   "cell_type": "code",
   "execution_count": 12,
   "metadata": {},
   "outputs": [
    {
     "data": {
      "text/html": [
       "<div>\n",
       "<style scoped>\n",
       "    .dataframe tbody tr th:only-of-type {\n",
       "        vertical-align: middle;\n",
       "    }\n",
       "\n",
       "    .dataframe tbody tr th {\n",
       "        vertical-align: top;\n",
       "    }\n",
       "\n",
       "    .dataframe thead th {\n",
       "        text-align: right;\n",
       "    }\n",
       "</style>\n",
       "<table border=\"1\" class=\"dataframe\">\n",
       "  <thead>\n",
       "    <tr style=\"text-align: right;\">\n",
       "      <th></th>\n",
       "      <th>Company Name</th>\n",
       "      <th>Template Name</th>\n",
       "      <th>PSE Form Number</th>\n",
       "      <th>Announce Date and Time</th>\n",
       "      <th>Circular Number</th>\n",
       "      <th>edge_no</th>\n",
       "      <th>url</th>\n",
       "      <th>disclosure_table</th>\n",
       "      <th>Background/Description of the Disclosure</th>\n",
       "      <th>Subject of the Disclosure</th>\n",
       "    </tr>\n",
       "  </thead>\n",
       "  <tbody>\n",
       "    <tr>\n",
       "      <th>4</th>\n",
       "      <td>Jollibee Foods Corporation</td>\n",
       "      <td>Material Information/Transactions</td>\n",
       "      <td>4-30</td>\n",
       "      <td>2020-02-18 15:33:00</td>\n",
       "      <td>C01000-2020</td>\n",
       "      <td>ed56abaed2893f830de8473cebbd6407</td>\n",
       "      <td>https://edge.pse.com.ph/openDiscViewer.do?edge...</td>\n",
       "      <td>{\"Title of Each Class\": \"Common\", \"Subject of ...</td>\n",
       "      <td>4th Quarter Unaudited Financial Statements for...</td>\n",
       "      <td>Results of the 4th Quarter Unaudited Financial...</td>\n",
       "    </tr>\n",
       "    <tr>\n",
       "      <th>5</th>\n",
       "      <td>Jollibee Foods Corporation</td>\n",
       "      <td>Press Release</td>\n",
       "      <td>4-31</td>\n",
       "      <td>2020-02-18 15:26:00</td>\n",
       "      <td>C00999-2020</td>\n",
       "      <td>d01aed5ca14a1ab20de8473cebbd6407</td>\n",
       "      <td>https://edge.pse.com.ph/openDiscViewer.do?edge...</td>\n",
       "      <td>{\"Title of Each Class\": \"Common \", \"Subject of...</td>\n",
       "      <td>JFC Same Store Sales Growth Improves, Gains fr...</td>\n",
       "      <td>Press Release: 2019 4th Quarter Financial Results</td>\n",
       "    </tr>\n",
       "  </tbody>\n",
       "</table>\n",
       "</div>"
      ],
      "text/plain": [
       "                 Company Name                      Template Name  \\\n",
       "4  Jollibee Foods Corporation  Material Information/Transactions   \n",
       "5  Jollibee Foods Corporation                      Press Release   \n",
       "\n",
       "  PSE Form Number Announce Date and Time Circular Number  \\\n",
       "4            4-30    2020-02-18 15:33:00     C01000-2020   \n",
       "5            4-31    2020-02-18 15:26:00     C00999-2020   \n",
       "\n",
       "                            edge_no  \\\n",
       "4  ed56abaed2893f830de8473cebbd6407   \n",
       "5  d01aed5ca14a1ab20de8473cebbd6407   \n",
       "\n",
       "                                                 url  \\\n",
       "4  https://edge.pse.com.ph/openDiscViewer.do?edge...   \n",
       "5  https://edge.pse.com.ph/openDiscViewer.do?edge...   \n",
       "\n",
       "                                    disclosure_table  \\\n",
       "4  {\"Title of Each Class\": \"Common\", \"Subject of ...   \n",
       "5  {\"Title of Each Class\": \"Common \", \"Subject of...   \n",
       "\n",
       "            Background/Description of the Disclosure  \\\n",
       "4  4th Quarter Unaudited Financial Statements for...   \n",
       "5  JFC Same Store Sales Growth Improves, Gains fr...   \n",
       "\n",
       "                           Subject of the Disclosure  \n",
       "4  Results of the 4th Quarter Unaudited Financial...  \n",
       "5  Press Release: 2019 4th Quarter Financial Results  "
      ]
     },
     "execution_count": 12,
     "metadata": {},
     "output_type": "execute_result"
    }
   ],
   "source": [
    "#disclosures co-incident with max percent change\n",
    "maximum = dpse.filter_disclosures()\n",
    "maximum"
   ]
  },
  {
   "cell_type": "code",
   "execution_count": 13,
   "metadata": {},
   "outputs": [
    {
     "data": {
      "text/html": [
       "<div>\n",
       "<style scoped>\n",
       "    .dataframe tbody tr th:only-of-type {\n",
       "        vertical-align: middle;\n",
       "    }\n",
       "\n",
       "    .dataframe tbody tr th {\n",
       "        vertical-align: top;\n",
       "    }\n",
       "\n",
       "    .dataframe thead th {\n",
       "        text-align: right;\n",
       "    }\n",
       "</style>\n",
       "<table border=\"1\" class=\"dataframe\">\n",
       "  <thead>\n",
       "    <tr style=\"text-align: right;\">\n",
       "      <th></th>\n",
       "      <th>Company Name</th>\n",
       "      <th>Template Name</th>\n",
       "      <th>PSE Form Number</th>\n",
       "      <th>Announce Date and Time</th>\n",
       "      <th>Circular Number</th>\n",
       "      <th>edge_no</th>\n",
       "      <th>url</th>\n",
       "      <th>disclosure_table</th>\n",
       "      <th>Background/Description of the Disclosure</th>\n",
       "      <th>Subject of the Disclosure</th>\n",
       "    </tr>\n",
       "  </thead>\n",
       "  <tbody>\n",
       "    <tr>\n",
       "      <th>0</th>\n",
       "      <td>Jollibee Foods Corporation</td>\n",
       "      <td>Press Release</td>\n",
       "      <td>4-31</td>\n",
       "      <td>2020-03-20 07:16:00</td>\n",
       "      <td>C02127-2020</td>\n",
       "      <td>a5df62b1a9558fe60de8473cebbd6407</td>\n",
       "      <td>https://edge.pse.com.ph/openDiscViewer.do?edge...</td>\n",
       "      <td>{\"Title of Each Class\": \"Common\", \"Subject of ...</td>\n",
       "      <td>Jollibee Foods Corporation (JFC) Chairman and ...</td>\n",
       "      <td>Jollibee Group allocates Php1 Billion Emergenc...</td>\n",
       "    </tr>\n",
       "  </tbody>\n",
       "</table>\n",
       "</div>"
      ],
      "text/plain": [
       "                 Company Name  Template Name PSE Form Number  \\\n",
       "0  Jollibee Foods Corporation  Press Release            4-31   \n",
       "\n",
       "  Announce Date and Time Circular Number                           edge_no  \\\n",
       "0    2020-03-20 07:16:00     C02127-2020  a5df62b1a9558fe60de8473cebbd6407   \n",
       "\n",
       "                                                 url  \\\n",
       "0  https://edge.pse.com.ph/openDiscViewer.do?edge...   \n",
       "\n",
       "                                    disclosure_table  \\\n",
       "0  {\"Title of Each Class\": \"Common\", \"Subject of ...   \n",
       "\n",
       "            Background/Description of the Disclosure  \\\n",
       "0  Jollibee Foods Corporation (JFC) Chairman and ...   \n",
       "\n",
       "                           Subject of the Disclosure  \n",
       "0  Jollibee Group allocates Php1 Billion Emergenc...  "
      ]
     },
     "execution_count": 13,
     "metadata": {},
     "output_type": "execute_result"
    }
   ],
   "source": [
    "#disclosures co-incident with min percent change\n",
    "minimum = dpse.filter_disclosures(operation='min')\n",
    "minimum"
   ]
  },
  {
   "cell_type": "code",
   "execution_count": 14,
   "metadata": {},
   "outputs": [
    {
     "data": {
      "text/plain": [
       "'JFC Same Store Sales Growth Improves, Gains from CBTL Acquisition Help 2019 Profit'"
      ]
     },
     "execution_count": 14,
     "metadata": {},
     "output_type": "execute_result"
    }
   ],
   "source": [
    "#what happened then?\n",
    "maximum['Background/Description of the Disclosure'].values[1]"
   ]
  },
  {
   "cell_type": "code",
   "execution_count": 15,
   "metadata": {},
   "outputs": [
    {
     "data": {
      "text/plain": [
       "'Press Release: 2019 4th Quarter Financial Results'"
      ]
     },
     "execution_count": 15,
     "metadata": {},
     "output_type": "execute_result"
    }
   ],
   "source": [
    "#details\n",
    "maximum['Subject of the Disclosure'].values[1]"
   ]
  },
  {
   "cell_type": "code",
   "execution_count": 16,
   "metadata": {},
   "outputs": [
    {
     "data": {
      "text/plain": [
       "'https://edge.pse.com.ph/openDiscViewer.do?edge_no=d01aed5ca14a1ab20de8473cebbd6407'"
      ]
     },
     "execution_count": 16,
     "metadata": {},
     "output_type": "execute_result"
    }
   ],
   "source": [
    "#get url\n",
    "maximum['url'].values[1]"
   ]
  },
  {
   "cell_type": "code",
   "execution_count": 17,
   "metadata": {},
   "outputs": [
    {
     "data": {
      "text/plain": [
       "array([\"Jollibee Foods Corporation (JFC) Chairman and Founder Tony Tan Caktiong announced today that the Company, amid the challenging business environment due to COVID-19, has allocated an emergency response fund amounting to Php 1 Billion to provide its employees with the needed financial support to cope through the Enhanced Community Quarantine (ECQ) period implemented due to the COVID-19 pandemic.This employee package covers all work teams of Jollibee Group’s offices, stores, commissaries, and logistics centers, including the senior citizens and PWDs assigned to stores under the joint employment program with local government units. The same assistance will also be extended to JFC's partner employers in the stores and other sites to provide financial support to their respective employees during this time.“This public health crisis challenges us as a company and as a nation in ways we’ve never seen before,” said Tan Caktiong. “In these times, we know how people are worrying about their safety and how to take care of their families. We want to help lessen their worries and we are setting up this fund to be able to help them through this difficult time. We are moved by how different individuals and sectors are taking action to help one another and we are one with them in supporting the government as we fight COVID together. We will be able to overcome these challenges together.”With this emergency fund, employees will continue to receive their full month’s salary within the duration of the ECQ of March 15 to April 15. They will also receive their 13th month pay by April 30. Affected employees can also convert their leave credits in advance and may file for personal leaves when necessary until the situation normalizes.In a letter to employees, JFC CEO Ernesto Tanmantiong said: “We know that this is a very unsettling time for everyone, but let me assure you that we are doing all we can in JFC to help you and your families and our customers during this period.”“To all our frontliners in the stores, to our teams in supply chain, and to all our support center members, thank you. You continue to bring pride and joy to JFC as you help give access to our quality food to the public,” Tanmantiong continued.Earlier, Tan Caktiong announced that JFC is donating Php100 Million worth of food from its brands to healthcare workers and on-ground checkpoint personnel who are at the frontlines in the fight against COVID-19.“When people do their own part and even go beyond what is needed, we truly see the resilient Filipino spirit that lifts us especially in times of crises,” remarked Tan Caktiong. “We in Jollibee Foods Corporation Group stand with the Filipino people as we fight COVID-19 together.”\"],\n",
       "      dtype=object)"
      ]
     },
     "execution_count": 17,
     "metadata": {},
     "output_type": "execute_result"
    }
   ],
   "source": [
    "#what happened during minimum?\n",
    "minimum['Background/Description of the Disclosure'].values"
   ]
  },
  {
   "cell_type": "code",
   "execution_count": 18,
   "metadata": {},
   "outputs": [
    {
     "data": {
      "text/plain": [
       "array(['Jollibee Group allocates Php1 Billion Emergency Fund for Employees'],\n",
       "      dtype=object)"
      ]
     },
     "execution_count": 18,
     "metadata": {},
     "output_type": "execute_result"
    }
   ],
   "source": [
    "#details\n",
    "minimum['Subject of the Disclosure'].values"
   ]
  },
  {
   "cell_type": "code",
   "execution_count": 19,
   "metadata": {},
   "outputs": [
    {
     "data": {
      "text/plain": [
       "array(['https://edge.pse.com.ph/openDiscViewer.do?edge_no=a5df62b1a9558fe60de8473cebbd6407'],\n",
       "      dtype=object)"
      ]
     },
     "execution_count": 19,
     "metadata": {},
     "output_type": "execute_result"
    }
   ],
   "source": [
    "#get url\n",
    "minimum['url'].values"
   ]
  },
  {
   "cell_type": "markdown",
   "metadata": {},
   "source": [
    "# Investagrams disclosures"
   ]
  },
  {
   "cell_type": "code",
   "execution_count": 22,
   "metadata": {},
   "outputs": [],
   "source": [
    "from fastquant import DisclosuresInvestagrams"
   ]
  },
  {
   "cell_type": "code",
   "execution_count": 23,
   "metadata": {},
   "outputs": [],
   "source": [
    "dinv = DisclosuresInvestagrams(symbol='JFC', from_date='2018-01-01', to_date='2020-04-01')"
   ]
  },
  {
   "cell_type": "code",
   "execution_count": 24,
   "metadata": {},
   "outputs": [
    {
     "data": {
      "text/html": [
       "<div>\n",
       "<style scoped>\n",
       "    .dataframe tbody tr th:only-of-type {\n",
       "        vertical-align: middle;\n",
       "    }\n",
       "\n",
       "    .dataframe tbody tr th {\n",
       "        vertical-align: top;\n",
       "    }\n",
       "\n",
       "    .dataframe thead th {\n",
       "        text-align: right;\n",
       "    }\n",
       "</style>\n",
       "<table border=\"1\" class=\"dataframe\">\n",
       "  <thead>\n",
       "    <tr style=\"text-align: right;\">\n",
       "      <th></th>\n",
       "      <th>id</th>\n",
       "      <th>time</th>\n",
       "      <th>color</th>\n",
       "      <th>label</th>\n",
       "      <th>Cash Dividends</th>\n",
       "      <th>Ex-Date</th>\n",
       "      <th>Record Date</th>\n",
       "      <th>Payment Date</th>\n",
       "    </tr>\n",
       "  </thead>\n",
       "  <tbody>\n",
       "    <tr>\n",
       "      <th>0</th>\n",
       "      <td>timediv607</td>\n",
       "      <td>2018-04-19</td>\n",
       "      <td>#0496FF</td>\n",
       "      <td>D</td>\n",
       "      <td>1.14</td>\n",
       "      <td>Thu Apr 19, 2018</td>\n",
       "      <td>Tue Apr 24, 2018</td>\n",
       "      <td>Wed May 09, 2018</td>\n",
       "    </tr>\n",
       "    <tr>\n",
       "      <th>1</th>\n",
       "      <td>timediv786</td>\n",
       "      <td>2018-11-21</td>\n",
       "      <td>#0496FF</td>\n",
       "      <td>D</td>\n",
       "      <td>1.34</td>\n",
       "      <td>Wed Nov 21, 2018</td>\n",
       "      <td>Mon Nov 26, 2018</td>\n",
       "      <td>Mon Dec 10, 2018</td>\n",
       "    </tr>\n",
       "    <tr>\n",
       "      <th>2</th>\n",
       "      <td>timediv934</td>\n",
       "      <td>2019-04-23</td>\n",
       "      <td>#0496FF</td>\n",
       "      <td>D</td>\n",
       "      <td>1.23</td>\n",
       "      <td>Tue Apr 23, 2019</td>\n",
       "      <td>Fri Apr 26, 2019</td>\n",
       "      <td>Thu May 09, 2019</td>\n",
       "    </tr>\n",
       "    <tr>\n",
       "      <th>3</th>\n",
       "      <td>timediv1112</td>\n",
       "      <td>2019-11-21</td>\n",
       "      <td>#0496FF</td>\n",
       "      <td>D</td>\n",
       "      <td>1.35</td>\n",
       "      <td>Thu Nov 21, 2019</td>\n",
       "      <td>Tue Nov 26, 2019</td>\n",
       "      <td>Tue Dec 10, 2019</td>\n",
       "    </tr>\n",
       "  </tbody>\n",
       "</table>\n",
       "</div>"
      ],
      "text/plain": [
       "            id       time    color label Cash Dividends            Ex-Date  \\\n",
       "0   timediv607 2018-04-19  #0496FF     D           1.14   Thu Apr 19, 2018   \n",
       "1   timediv786 2018-11-21  #0496FF     D           1.34   Wed Nov 21, 2018   \n",
       "2   timediv934 2019-04-23  #0496FF     D           1.23   Tue Apr 23, 2019   \n",
       "3  timediv1112 2019-11-21  #0496FF     D           1.35   Thu Nov 21, 2019   \n",
       "\n",
       "         Record Date       Payment Date  \n",
       "0   Tue Apr 24, 2018   Wed May 09, 2018  \n",
       "1   Mon Nov 26, 2018   Mon Dec 10, 2018  \n",
       "2   Fri Apr 26, 2019   Thu May 09, 2019  \n",
       "3   Tue Nov 26, 2019   Tue Dec 10, 2019  "
      ]
     },
     "execution_count": 24,
     "metadata": {},
     "output_type": "execute_result"
    }
   ],
   "source": [
    "dinv.dividends"
   ]
  },
  {
   "cell_type": "code",
   "execution_count": 25,
   "metadata": {},
   "outputs": [
    {
     "data": {
      "text/html": [
       "<div>\n",
       "<style scoped>\n",
       "    .dataframe tbody tr th:only-of-type {\n",
       "        vertical-align: middle;\n",
       "    }\n",
       "\n",
       "    .dataframe tbody tr th {\n",
       "        vertical-align: top;\n",
       "    }\n",
       "\n",
       "    .dataframe thead th {\n",
       "        text-align: right;\n",
       "    }\n",
       "</style>\n",
       "<table border=\"1\" class=\"dataframe\">\n",
       "  <thead>\n",
       "    <tr style=\"text-align: right;\">\n",
       "      <th></th>\n",
       "      <th>id</th>\n",
       "      <th>time</th>\n",
       "      <th>color</th>\n",
       "      <th>label</th>\n",
       "      <th>Total Revenue</th>\n",
       "      <th>Net Income</th>\n",
       "      <th>EPS</th>\n",
       "      <th>Date</th>\n",
       "      <th>Period Ending</th>\n",
       "      <th>Revenue Unit</th>\n",
       "      <th>NI Unit</th>\n",
       "      <th>Net Income Amount</th>\n",
       "      <th>Net Income YoY Growth (%)</th>\n",
       "    </tr>\n",
       "  </thead>\n",
       "  <tbody>\n",
       "    <tr>\n",
       "      <th>0</th>\n",
       "      <td>timeearnings4820175</td>\n",
       "      <td>2018-04-11 06:26:00</td>\n",
       "      <td>#DC143C</td>\n",
       "      <td>E</td>\n",
       "      <td>133.39</td>\n",
       "      <td>6.67B (10.23%)</td>\n",
       "      <td>6.58</td>\n",
       "      <td>Wed Apr 11, 2018</td>\n",
       "      <td>Dec 31, 2017</td>\n",
       "      <td>B</td>\n",
       "      <td>B (%)</td>\n",
       "      <td>6.67</td>\n",
       "      <td>10.23</td>\n",
       "    </tr>\n",
       "    <tr>\n",
       "      <th>1</th>\n",
       "      <td>timeearnings4820181</td>\n",
       "      <td>2018-05-10 00:32:00</td>\n",
       "      <td>#DC143C</td>\n",
       "      <td>E</td>\n",
       "      <td>35.05</td>\n",
       "      <td>1.67B (13.14%)</td>\n",
       "      <td>1.66</td>\n",
       "      <td>Thu May 10, 2018</td>\n",
       "      <td>Mar 31, 2018</td>\n",
       "      <td>B</td>\n",
       "      <td>B (%)</td>\n",
       "      <td>1.67</td>\n",
       "      <td>13.14</td>\n",
       "    </tr>\n",
       "    <tr>\n",
       "      <th>2</th>\n",
       "      <td>timeearnings4820182</td>\n",
       "      <td>2018-08-14 01:21:00</td>\n",
       "      <td>#DC143C</td>\n",
       "      <td>E</td>\n",
       "      <td>40.78</td>\n",
       "      <td>2.1B (10.55%)</td>\n",
       "      <td>2.07</td>\n",
       "      <td>Tue Aug 14, 2018</td>\n",
       "      <td>Jun 30, 2018</td>\n",
       "      <td>B</td>\n",
       "      <td>B (%)</td>\n",
       "      <td>2.10</td>\n",
       "      <td>10.55</td>\n",
       "    </tr>\n",
       "    <tr>\n",
       "      <th>3</th>\n",
       "      <td>timeearnings4820183</td>\n",
       "      <td>2018-11-12 05:18:00</td>\n",
       "      <td>#DC143C</td>\n",
       "      <td>E</td>\n",
       "      <td>40.49</td>\n",
       "      <td>1.93B (26.90%)</td>\n",
       "      <td>1.87</td>\n",
       "      <td>Mon Nov 12, 2018</td>\n",
       "      <td>Sep 30, 2018</td>\n",
       "      <td>B</td>\n",
       "      <td>B (%)</td>\n",
       "      <td>1.93</td>\n",
       "      <td>26.90</td>\n",
       "    </tr>\n",
       "    <tr>\n",
       "      <th>4</th>\n",
       "      <td>timeearnings4820185</td>\n",
       "      <td>2019-04-11 00:33:00</td>\n",
       "      <td>#DC143C</td>\n",
       "      <td>E</td>\n",
       "      <td>164.35</td>\n",
       "      <td>7.77B (16.47%)</td>\n",
       "      <td>7.66</td>\n",
       "      <td>Thu Apr 11, 2019</td>\n",
       "      <td>Dec 31, 2018</td>\n",
       "      <td>B</td>\n",
       "      <td>B (%)</td>\n",
       "      <td>7.77</td>\n",
       "      <td>16.47</td>\n",
       "    </tr>\n",
       "    <tr>\n",
       "      <th>5</th>\n",
       "      <td>timeearnings4820191</td>\n",
       "      <td>2019-05-15 06:37:00</td>\n",
       "      <td>#DC143C</td>\n",
       "      <td>E</td>\n",
       "      <td>40.62</td>\n",
       "      <td>1.43B (-14.06%)</td>\n",
       "      <td>1.41</td>\n",
       "      <td>Wed May 15, 2019</td>\n",
       "      <td>Mar 31, 2019</td>\n",
       "      <td>B</td>\n",
       "      <td>B (-%)</td>\n",
       "      <td>1.43</td>\n",
       "      <td>-14.06</td>\n",
       "    </tr>\n",
       "    <tr>\n",
       "      <th>6</th>\n",
       "      <td>timeearnings4820192</td>\n",
       "      <td>2019-08-05 07:13:00</td>\n",
       "      <td>#DC143C</td>\n",
       "      <td>E</td>\n",
       "      <td>44.22</td>\n",
       "      <td>985.48M (-53.10%)</td>\n",
       "      <td>1.03</td>\n",
       "      <td>Mon Aug 05, 2019</td>\n",
       "      <td>Jun 30, 2019</td>\n",
       "      <td>B</td>\n",
       "      <td>M (-%)</td>\n",
       "      <td>985.48</td>\n",
       "      <td>-53.10</td>\n",
       "    </tr>\n",
       "    <tr>\n",
       "      <th>7</th>\n",
       "      <td>timeearnings4820193</td>\n",
       "      <td>2019-11-14 03:46:00</td>\n",
       "      <td>#DC143C</td>\n",
       "      <td>E</td>\n",
       "      <td>45.17</td>\n",
       "      <td>2.01B (4.48%)</td>\n",
       "      <td>1.71</td>\n",
       "      <td>Thu Nov 14, 2019</td>\n",
       "      <td>Sep 30, 2019</td>\n",
       "      <td>B</td>\n",
       "      <td>B (%)</td>\n",
       "      <td>2.01</td>\n",
       "      <td>4.48</td>\n",
       "    </tr>\n",
       "  </tbody>\n",
       "</table>\n",
       "</div>"
      ],
      "text/plain": [
       "                    id                time    color label  Total Revenue  \\\n",
       "0  timeearnings4820175 2018-04-11 06:26:00  #DC143C     E         133.39   \n",
       "1  timeearnings4820181 2018-05-10 00:32:00  #DC143C     E          35.05   \n",
       "2  timeearnings4820182 2018-08-14 01:21:00  #DC143C     E          40.78   \n",
       "3  timeearnings4820183 2018-11-12 05:18:00  #DC143C     E          40.49   \n",
       "4  timeearnings4820185 2019-04-11 00:33:00  #DC143C     E         164.35   \n",
       "5  timeearnings4820191 2019-05-15 06:37:00  #DC143C     E          40.62   \n",
       "6  timeearnings4820192 2019-08-05 07:13:00  #DC143C     E          44.22   \n",
       "7  timeearnings4820193 2019-11-14 03:46:00  #DC143C     E          45.17   \n",
       "\n",
       "           Net Income    EPS               Date  Period Ending Revenue Unit  \\\n",
       "0      6.67B (10.23%)   6.58   Wed Apr 11, 2018   Dec 31, 2017            B   \n",
       "1      1.67B (13.14%)   1.66   Thu May 10, 2018   Mar 31, 2018            B   \n",
       "2       2.1B (10.55%)   2.07   Tue Aug 14, 2018   Jun 30, 2018            B   \n",
       "3      1.93B (26.90%)   1.87   Mon Nov 12, 2018   Sep 30, 2018            B   \n",
       "4      7.77B (16.47%)   7.66   Thu Apr 11, 2019   Dec 31, 2018            B   \n",
       "5     1.43B (-14.06%)   1.41   Wed May 15, 2019   Mar 31, 2019            B   \n",
       "6   985.48M (-53.10%)   1.03   Mon Aug 05, 2019   Jun 30, 2019            B   \n",
       "7       2.01B (4.48%)   1.71   Thu Nov 14, 2019   Sep 30, 2019            B   \n",
       "\n",
       "   NI Unit  Net Income Amount Net Income YoY Growth (%)  \n",
       "0    B (%)               6.67                     10.23  \n",
       "1    B (%)               1.67                     13.14  \n",
       "2    B (%)               2.10                     10.55  \n",
       "3    B (%)               1.93                     26.90  \n",
       "4    B (%)               7.77                     16.47  \n",
       "5   B (-%)               1.43                    -14.06  \n",
       "6   M (-%)             985.48                    -53.10  \n",
       "7    B (%)               2.01                      4.48  "
      ]
     },
     "execution_count": 25,
     "metadata": {},
     "output_type": "execute_result"
    }
   ],
   "source": [
    "dinv.earnings"
   ]
  },
  {
   "cell_type": "markdown",
   "metadata": {},
   "source": [
    "# disclosures-based strategy (under development)"
   ]
  },
  {
   "cell_type": "raw",
   "metadata": {},
   "source": [
    "!pip install backtrader[plotting]"
   ]
  },
  {
   "cell_type": "raw",
   "metadata": {},
   "source": [
    "import pandas as pd\n",
    "from fastquant import backtest\n",
    "\n",
    "df = pd.read_csv(\"../data/JFC_20180101_20190110_DCV.csv\")\n",
    "\n",
    "backtest('smac', df, fast_period=15, slow_period=40)"
   ]
  },
  {
   "cell_type": "code",
   "execution_count": 1,
   "metadata": {},
   "outputs": [],
   "source": [
    "from fastquant import BaseStrategy, DisclosuresPSE\n",
    "\n",
    "class DisclosuresStrategy(BaseStrategy):\n",
    "    \"\"\"\n",
    "    Disclosure-based trading strategy\n",
    "\n",
    "    Parameters\n",
    "    ----------\n",
    "    \n",
    "    \"\"\"\n",
    "\n",
    "    params = (\n",
    "        (\"fast_period\", 10),  # period for the fast moving average\n",
    "        (\"slow_period\", 30),\n",
    "    )\n",
    "\n",
    "    def __init__(self):\n",
    "        # Initialize global variables\n",
    "        super().__init__()\n",
    "        # Strategy level variables\n",
    "        self.fast_period = self.params.fast_period\n",
    "        self.slow_period = self.params.slow_period\n",
    "\n",
    "        print(\"===Strategy level arguments===\")\n",
    "        print(\"fast_period :\", self.fast_period)\n",
    "        print(\"slow_period :\", self.slow_period)\n",
    "        sma_fast = bt.ind.SMA(period=self.fast_period)  # fast moving average\n",
    "        sma_slow = bt.ind.SMA(period=self.slow_period)  # slow moving average\n",
    "        self.crossover = bt.ind.CrossOver(\n",
    "            sma_fast, sma_slow\n",
    "        )  # crossover signal\n",
    "\n",
    "    def buy_signal(self):\n",
    "        return self.crossover > 0\n",
    "\n",
    "    def sell_signal(self):\n",
    "        return self.crossover < 0"
   ]
  },
  {
   "cell_type": "raw",
   "metadata": {},
   "source": [
    "cols = \"datetime open high low close volume openinterest\".split()\n",
    "\n",
    "def parse_data_format(format):\n",
    "    data_format = {}\n",
    "    for n,col in enumerate(cols):\n",
    "        for f in format:\n",
    "            if col[0]==f:\n",
    "                data_format[col] = n\n",
    "            else:\n",
    "                data_format[col] = None\n",
    "    return data_format"
   ]
  },
  {
   "cell_type": "code",
   "execution_count": 2,
   "metadata": {},
   "outputs": [],
   "source": [
    "DATA_FORMAT_MAPPING= {\"dcv\": {\n",
    "                            \"datetime\": 0,\n",
    "                            \"open\": None,\n",
    "                            \"high\": None,\n",
    "                            \"low\": None,\n",
    "                            \"close\": 1,\n",
    "                            \"volume\": 2,\n",
    "                            \"openinterest\": None},\n",
    "                      \"dohlc\": {\n",
    "                            \"datetime\": 0,\n",
    "                            \"open\": 1,\n",
    "                            \"high\": 2,\n",
    "                            \"low\": 3,\n",
    "                            \"close\": 4,\n",
    "                            \"volume\": None,\n",
    "                            \"openinterest\": None\n",
    "                          \n",
    "                      }\n",
    "                     }"
   ]
  },
  {
   "cell_type": "code",
   "execution_count": 3,
   "metadata": {},
   "outputs": [
    {
     "data": {
      "text/html": [
       "<div>\n",
       "<style scoped>\n",
       "    .dataframe tbody tr th:only-of-type {\n",
       "        vertical-align: middle;\n",
       "    }\n",
       "\n",
       "    .dataframe tbody tr th {\n",
       "        vertical-align: top;\n",
       "    }\n",
       "\n",
       "    .dataframe thead th {\n",
       "        text-align: right;\n",
       "    }\n",
       "</style>\n",
       "<table border=\"1\" class=\"dataframe\">\n",
       "  <thead>\n",
       "    <tr style=\"text-align: right;\">\n",
       "      <th></th>\n",
       "      <th>dt</th>\n",
       "      <th>open</th>\n",
       "      <th>high</th>\n",
       "      <th>low</th>\n",
       "      <th>close</th>\n",
       "    </tr>\n",
       "  </thead>\n",
       "  <tbody>\n",
       "    <tr>\n",
       "      <th>2077</th>\n",
       "      <td>2019-01-02</td>\n",
       "      <td>292.0</td>\n",
       "      <td>295.8</td>\n",
       "      <td>291.8</td>\n",
       "      <td>293.0</td>\n",
       "    </tr>\n",
       "    <tr>\n",
       "      <th>2078</th>\n",
       "      <td>2019-01-03</td>\n",
       "      <td>292.8</td>\n",
       "      <td>294.2</td>\n",
       "      <td>290.8</td>\n",
       "      <td>292.0</td>\n",
       "    </tr>\n",
       "    <tr>\n",
       "      <th>2079</th>\n",
       "      <td>2019-01-04</td>\n",
       "      <td>293.8</td>\n",
       "      <td>310.4</td>\n",
       "      <td>293.2</td>\n",
       "      <td>309.0</td>\n",
       "    </tr>\n",
       "    <tr>\n",
       "      <th>2080</th>\n",
       "      <td>2019-01-07</td>\n",
       "      <td>309.0</td>\n",
       "      <td>324.2</td>\n",
       "      <td>309.0</td>\n",
       "      <td>323.0</td>\n",
       "    </tr>\n",
       "    <tr>\n",
       "      <th>2081</th>\n",
       "      <td>2019-01-08</td>\n",
       "      <td>323.0</td>\n",
       "      <td>323.0</td>\n",
       "      <td>316.0</td>\n",
       "      <td>321.0</td>\n",
       "    </tr>\n",
       "  </tbody>\n",
       "</table>\n",
       "</div>"
      ],
      "text/plain": [
       "             dt   open   high    low  close\n",
       "2077 2019-01-02  292.0  295.8  291.8  293.0\n",
       "2078 2019-01-03  292.8  294.2  290.8  292.0\n",
       "2079 2019-01-04  293.8  310.4  293.2  309.0\n",
       "2080 2019-01-07  309.0  324.2  309.0  323.0\n",
       "2081 2019-01-08  323.0  323.0  316.0  321.0"
      ]
     },
     "execution_count": 3,
     "metadata": {},
     "output_type": "execute_result"
    }
   ],
   "source": [
    "from fastquant import get_stock_data\n",
    "\n",
    "data = get_stock_data(\"JFC\",\n",
    "                  start_date=\"2019-01-01\",\n",
    "                  end_date=\"2020-01-01\",\n",
    "                  format=\"dohlc\"\n",
    "                 )\n",
    "data.head()"
   ]
  },
  {
   "cell_type": "raw",
   "metadata": {
    "scrolled": false
   },
   "source": [
    "from datetime import datetime\n",
    "import pandas as pd\n",
    "import backtrader as bt\n",
    "import backtrader.feeds as btfeed\n",
    "\n",
    "from fastquant import DATA_FILE, COMMISSION_PER_TRANSACTION, INIT_CASH\n",
    "from fastquant import STRATEGY_MAPPING\n",
    "\n",
    "cerebro = bt.Cerebro(stdstats=False)\n",
    "# cerebro.addobserver(bt.observers.Broker)\n",
    "# cerebro.addobserver(bt.observers.Trades)\n",
    "# cerebro.addobserver(bt.observers.BuySell)\n",
    "\n",
    "cerebro.addstrategy(DisclosuresStrategy,\n",
    "                    #STRATEGY_MAPPING[\"rsi\"], \n",
    "                    init_cash=INIT_CASH)\n",
    "\n",
    "cerebro.broker.setcommission(commission=COMMISSION_PER_TRANSACTION)\n",
    "\n",
    "pd_data = bt.feeds.PandasData(dataname=data, \n",
    "                            fromdate=datetime(2019, 1, 1),\n",
    "                            todate=datetime(2020, 1, 1),\n",
    "                            **DATA_FORMAT_MAPPING[\"dohlc\"]\n",
    "                              \n",
    "                             )\n",
    "\n",
    "cerebro.adddata(pd_data)\n",
    "cerebro.broker.setcash(INIT_CASH)\n",
    "# Allows us to set buy price based on next day closing\n",
    "# (technically impossible, but reasonable assuming you use all your money to buy market at the end of the next day)\n",
    "cerebro.broker.set_coc(True)\n",
    "print(\"Starting Portfolio Value: %.2f\" % cerebro.broker.getvalue())\n",
    "cerebro.run()\n",
    "print(\"Final Portfolio Value: %.2f\" % cerebro.broker.getvalue())\n",
    "\n",
    "# fig = pl.figure(figsize=(20, 10))\n",
    "# cerebro.plot()"
   ]
  },
  {
   "cell_type": "code",
   "execution_count": null,
   "metadata": {},
   "outputs": [],
   "source": []
  }
 ],
 "metadata": {
  "kernelspec": {
   "display_name": "Python 3",
   "language": "python",
   "name": "python3"
  },
  "language_info": {
   "codemirror_mode": {
    "name": "ipython",
    "version": 3
   },
   "file_extension": ".py",
   "mimetype": "text/x-python",
   "name": "python",
   "nbconvert_exporter": "python",
   "pygments_lexer": "ipython3",
   "version": "3.8.2"
  },
  "toc": {
   "base_numbering": 1,
   "nav_menu": {},
   "number_sections": true,
   "sideBar": true,
   "skip_h1_title": false,
   "title_cell": "Table of Contents",
   "title_sidebar": "Contents",
   "toc_cell": false,
   "toc_position": {},
   "toc_section_display": true,
   "toc_window_display": false
  }
 },
 "nbformat": 4,
 "nbformat_minor": 4
}
