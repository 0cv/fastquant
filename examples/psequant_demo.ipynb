{
  "nbformat": 4,
  "nbformat_minor": 0,
  "metadata": {
    "colab": {
      "name": "psequant_demo.ipynb",
      "provenance": [],
      "collapsed_sections": [],
      "include_colab_link": true
    },
    "kernelspec": {
      "name": "python3",
      "display_name": "Python 3"
    }
  },
  "cells": [
    {
      "cell_type": "markdown",
      "metadata": {
        "id": "view-in-github",
        "colab_type": "text"
      },
      "source": [
        "<a href=\"https://colab.research.google.com/github/enzoampil/psequant/blob/master/examples/psequant_demo.ipynb\" target=\"_parent\"><img src=\"https://colab.research.google.com/assets/colab-badge.svg\" alt=\"Open In Colab\"/></a>"
      ]
    },
    {
      "cell_type": "markdown",
      "metadata": {
        "id": "dLC0ASP1o6B8",
        "colab_type": "text"
      },
      "source": [
        "# Installation"
      ]
    },
    {
      "cell_type": "code",
      "metadata": {
        "id": "KLi7LnCKdure",
        "colab_type": "code",
        "outputId": "b8282d6c-dc72-4014-f675-877fce2be3e8",
        "colab": {
          "base_uri": "https://localhost:8080/",
          "height": 1000
        }
      },
      "source": [
        "!pip install psequant"
      ],
      "execution_count": 1,
      "outputs": [
        {
          "output_type": "stream",
          "text": [
            "Collecting psequant\n",
            "  Downloading https://files.pythonhosted.org/packages/80/4a/3193bf75904278e7c9709d76096424355053a7abe87cc9b9a1fc097e47a2/psequant-0.1.2.1-py3-none-any.whl\n",
            "Collecting lxml==4.4.2\n",
            "\u001b[?25l  Downloading https://files.pythonhosted.org/packages/68/30/affd16b77edf9537f5be051905f33527021e20d563d013e8c42c7fd01949/lxml-4.4.2-cp36-cp36m-manylinux1_x86_64.whl (5.8MB)\n",
            "\u001b[K     |████████████████████████████████| 5.8MB 4.3MB/s \n",
            "\u001b[?25hRequirement already satisfied: pandas==0.25.3 in /usr/local/lib/python3.6/dist-packages (from psequant) (0.25.3)\n",
            "Requirement already satisfied: PySocks==1.7.1 in /usr/local/lib/python3.6/dist-packages (from psequant) (1.7.1)\n",
            "Collecting numpy==1.18.0\n",
            "\u001b[?25l  Downloading https://files.pythonhosted.org/packages/92/e6/45f71bd24f4e37629e9db5fb75caab919507deae6a5a257f9e4685a5f931/numpy-1.18.0-cp36-cp36m-manylinux1_x86_64.whl (20.1MB)\n",
            "\u001b[K     |████████████████████████████████| 20.1MB 1.2MB/s \n",
            "\u001b[?25hCollecting pytz==2019.3\n",
            "\u001b[?25l  Downloading https://files.pythonhosted.org/packages/e7/f9/f0b53f88060247251bf481fa6ea62cd0d25bf1b11a87888e53ce5b7c8ad2/pytz-2019.3-py2.py3-none-any.whl (509kB)\n",
            "\u001b[K     |████████████████████████████████| 512kB 63.1MB/s \n",
            "\u001b[?25hRequirement already satisfied: matplotlib==3.1.2 in /usr/local/lib/python3.6/dist-packages (from psequant) (3.1.2)\n",
            "Collecting python-dateutil==2.8.1\n",
            "\u001b[?25l  Downloading https://files.pythonhosted.org/packages/d4/70/d60450c3dd48ef87586924207ae8907090de0b306af2bce5d134d78615cb/python_dateutil-2.8.1-py2.py3-none-any.whl (227kB)\n",
            "\u001b[K     |████████████████████████████████| 235kB 69.1MB/s \n",
            "\u001b[?25hCollecting black==19.10b0\n",
            "\u001b[?25l  Downloading https://files.pythonhosted.org/packages/fd/bb/ad34bbc93d1bea3de086d7c59e528d4a503ac8fe318bd1fa48605584c3d2/black-19.10b0-py36-none-any.whl (97kB)\n",
            "\u001b[K     |████████████████████████████████| 102kB 14.2MB/s \n",
            "\u001b[?25hRequirement already satisfied: oauthlib==3.1.0 in /usr/local/lib/python3.6/dist-packages (from psequant) (3.1.0)\n",
            "Requirement already satisfied: requests-oauthlib==1.3.0 in /usr/local/lib/python3.6/dist-packages (from psequant) (1.3.0)\n",
            "Collecting tweepy==3.8.0\n",
            "  Downloading https://files.pythonhosted.org/packages/36/1b/2bd38043d22ade352fc3d3902cf30ce0e2f4bf285be3b304a2782a767aec/tweepy-3.8.0-py2.py3-none-any.whl\n",
            "Requirement already satisfied: chardet==3.0.4 in /usr/local/lib/python3.6/dist-packages (from psequant) (3.0.4)\n",
            "Requirement already satisfied: bs4==0.0.1 in /usr/local/lib/python3.6/dist-packages (from psequant) (0.0.1)\n",
            "Collecting backtrader==1.9.74.123\n",
            "\u001b[?25l  Downloading https://files.pythonhosted.org/packages/a6/35/6ed3fbb771712d457011680970f3f0bcf38bfbc4cedd447d62705a6523c8/backtrader-1.9.74.123-py2.py3-none-any.whl (411kB)\n",
            "\u001b[K     |████████████████████████████████| 419kB 66.7MB/s \n",
            "\u001b[?25hRequirement already satisfied: certifi==2019.11.28 in /usr/local/lib/python3.6/dist-packages (from psequant) (2019.11.28)\n",
            "Collecting requests==2.22.0\n",
            "\u001b[?25l  Downloading https://files.pythonhosted.org/packages/51/bd/23c926cd341ea6b7dd0b2a00aba99ae0f828be89d72b2190f27c11d4b7fb/requests-2.22.0-py2.py3-none-any.whl (57kB)\n",
            "\u001b[K     |████████████████████████████████| 61kB 10.4MB/s \n",
            "\u001b[?25hCollecting urllib3==1.25.7\n",
            "\u001b[?25l  Downloading https://files.pythonhosted.org/packages/b4/40/a9837291310ee1ccc242ceb6ebfd9eb21539649f193a7c8c86ba15b98539/urllib3-1.25.7-py2.py3-none-any.whl (125kB)\n",
            "\u001b[K     |████████████████████████████████| 133kB 64.8MB/s \n",
            "\u001b[?25hRequirement already satisfied: idna==2.8 in /usr/local/lib/python3.6/dist-packages (from psequant) (2.8)\n",
            "Collecting six==1.13.0\n",
            "  Downloading https://files.pythonhosted.org/packages/65/26/32b8464df2a97e6dd1b656ed26b2c194606c16fe163c695a992b36c11cdf/six-1.13.0-py2.py3-none-any.whl\n",
            "Collecting beautifulsoup4==4.8.2\n",
            "\u001b[?25l  Downloading https://files.pythonhosted.org/packages/cb/a1/c698cf319e9cfed6b17376281bd0efc6bfc8465698f54170ef60a485ab5d/beautifulsoup4-4.8.2-py3-none-any.whl (106kB)\n",
            "\u001b[K     |████████████████████████████████| 112kB 65.5MB/s \n",
            "\u001b[?25hCollecting soupsieve==1.9.5\n",
            "  Downloading https://files.pythonhosted.org/packages/81/94/03c0f04471fc245d08d0a99f7946ac228ca98da4fa75796c507f61e688c2/soupsieve-1.9.5-py2.py3-none-any.whl\n",
            "Requirement already satisfied: cycler>=0.10 in /usr/local/lib/python3.6/dist-packages (from matplotlib==3.1.2->psequant) (0.10.0)\n",
            "Requirement already satisfied: kiwisolver>=1.0.1 in /usr/local/lib/python3.6/dist-packages (from matplotlib==3.1.2->psequant) (1.1.0)\n",
            "Requirement already satisfied: pyparsing!=2.0.4,!=2.1.2,!=2.1.6,>=2.0.1 in /usr/local/lib/python3.6/dist-packages (from matplotlib==3.1.2->psequant) (2.4.6)\n",
            "Collecting typed-ast>=1.4.0\n",
            "\u001b[?25l  Downloading https://files.pythonhosted.org/packages/31/d3/9d1802c161626d0278bafb1ffb32f76b9d01e123881bbf9d91e8ccf28e18/typed_ast-1.4.0-cp36-cp36m-manylinux1_x86_64.whl (736kB)\n",
            "\u001b[K     |████████████████████████████████| 737kB 58.0MB/s \n",
            "\u001b[?25hCollecting toml>=0.9.4\n",
            "  Downloading https://files.pythonhosted.org/packages/a2/12/ced7105d2de62fa7c8fb5fce92cc4ce66b57c95fb875e9318dba7f8c5db0/toml-0.10.0-py2.py3-none-any.whl\n",
            "Requirement already satisfied: click>=6.5 in /usr/local/lib/python3.6/dist-packages (from black==19.10b0->psequant) (7.0)\n",
            "Collecting pathspec<1,>=0.6\n",
            "  Downloading https://files.pythonhosted.org/packages/34/fa/c5cc4f796eb954b56fd1f6c7c315647b18b027e0736c9ae87b73bbb1f933/pathspec-0.7.0-py2.py3-none-any.whl\n",
            "Requirement already satisfied: regex in /usr/local/lib/python3.6/dist-packages (from black==19.10b0->psequant) (2019.12.20)\n",
            "Collecting appdirs\n",
            "  Downloading https://files.pythonhosted.org/packages/56/eb/810e700ed1349edde4cbdc1b2a21e28cdf115f9faf263f6bbf8447c1abf3/appdirs-1.4.3-py2.py3-none-any.whl\n",
            "Requirement already satisfied: attrs>=18.1.0 in /usr/local/lib/python3.6/dist-packages (from black==19.10b0->psequant) (19.3.0)\n",
            "Requirement already satisfied: setuptools in /usr/local/lib/python3.6/dist-packages (from kiwisolver>=1.0.1->matplotlib==3.1.2->psequant) (42.0.2)\n",
            "\u001b[31mERROR: kaggle 1.5.6 has requirement urllib3<1.25,>=1.21.1, but you'll have urllib3 1.25.7 which is incompatible.\u001b[0m\n",
            "\u001b[31mERROR: google-colab 1.0.0 has requirement requests~=2.21.0, but you'll have requests 2.22.0 which is incompatible.\u001b[0m\n",
            "\u001b[31mERROR: google-colab 1.0.0 has requirement six~=1.12.0, but you'll have six 1.13.0 which is incompatible.\u001b[0m\n",
            "\u001b[31mERROR: datascience 0.10.6 has requirement folium==0.2.1, but you'll have folium 0.8.3 which is incompatible.\u001b[0m\n",
            "\u001b[31mERROR: albumentations 0.1.12 has requirement imgaug<0.2.7,>=0.2.5, but you'll have imgaug 0.2.9 which is incompatible.\u001b[0m\n",
            "Installing collected packages: lxml, numpy, pytz, six, python-dateutil, typed-ast, toml, pathspec, appdirs, black, urllib3, requests, tweepy, backtrader, soupsieve, beautifulsoup4, psequant\n",
            "  Found existing installation: lxml 4.2.6\n",
            "    Uninstalling lxml-4.2.6:\n",
            "      Successfully uninstalled lxml-4.2.6\n",
            "  Found existing installation: numpy 1.17.5\n",
            "    Uninstalling numpy-1.17.5:\n",
            "      Successfully uninstalled numpy-1.17.5\n",
            "  Found existing installation: pytz 2018.9\n",
            "    Uninstalling pytz-2018.9:\n",
            "      Successfully uninstalled pytz-2018.9\n",
            "  Found existing installation: six 1.12.0\n",
            "    Uninstalling six-1.12.0:\n",
            "      Successfully uninstalled six-1.12.0\n",
            "  Found existing installation: python-dateutil 2.6.1\n",
            "    Uninstalling python-dateutil-2.6.1:\n",
            "      Successfully uninstalled python-dateutil-2.6.1\n",
            "  Found existing installation: urllib3 1.24.3\n",
            "    Uninstalling urllib3-1.24.3:\n",
            "      Successfully uninstalled urllib3-1.24.3\n",
            "  Found existing installation: requests 2.21.0\n",
            "    Uninstalling requests-2.21.0:\n",
            "      Successfully uninstalled requests-2.21.0\n",
            "  Found existing installation: tweepy 3.6.0\n",
            "    Uninstalling tweepy-3.6.0:\n",
            "      Successfully uninstalled tweepy-3.6.0\n",
            "  Found existing installation: beautifulsoup4 4.6.3\n",
            "    Uninstalling beautifulsoup4-4.6.3:\n",
            "      Successfully uninstalled beautifulsoup4-4.6.3\n",
            "Successfully installed appdirs-1.4.3 backtrader-1.9.74.123 beautifulsoup4-4.8.2 black-19.10b0 lxml-4.4.2 numpy-1.18.0 pathspec-0.7.0 psequant-0.1.2.1 python-dateutil-2.8.1 pytz-2019.3 requests-2.22.0 six-1.13.0 soupsieve-1.9.5 toml-0.10.0 tweepy-3.8.0 typed-ast-1.4.0 urllib3-1.25.7\n"
          ],
          "name": "stdout"
        },
        {
          "output_type": "display_data",
          "data": {
            "application/vnd.colab-display-data+json": {
              "pip_warning": {
                "packages": [
                  "dateutil",
                  "numpy",
                  "pytz",
                  "requests",
                  "six",
                  "urllib3"
                ]
              }
            }
          },
          "metadata": {
            "tags": []
          }
        }
      ]
    },
    {
      "cell_type": "markdown",
      "metadata": {
        "id": "GHJNCDsVpD4i",
        "colab_type": "text"
      },
      "source": [
        "# Get stock data from PSE"
      ]
    },
    {
      "cell_type": "code",
      "metadata": {
        "id": "-RoozEvNrxGn",
        "colab_type": "code",
        "outputId": "f63a4e48-a53f-432b-a66b-908be3e3d028",
        "colab": {
          "base_uri": "https://localhost:8080/",
          "height": 235
        }
      },
      "source": [
        "from psequant import get_pse_data\n",
        "df = get_pse_data('JFC', '2018-01-01', '2019-01-01')\n",
        "df.head()"
      ],
      "execution_count": 0,
      "outputs": [
        {
          "output_type": "stream",
          "text": [
            ""
          ],
          "name": "stdout"
        },
        {
          "output_type": "execute_result",
          "data": {
            "text/html": [
              "<div>\n",
              "<style scoped>\n",
              "    .dataframe tbody tr th:only-of-type {\n",
              "        vertical-align: middle;\n",
              "    }\n",
              "\n",
              "    .dataframe tbody tr th {\n",
              "        vertical-align: top;\n",
              "    }\n",
              "\n",
              "    .dataframe thead th {\n",
              "        text-align: right;\n",
              "    }\n",
              "</style>\n",
              "<table border=\"1\" class=\"dataframe\">\n",
              "  <thead>\n",
              "    <tr style=\"text-align: right;\">\n",
              "      <th></th>\n",
              "      <th>open</th>\n",
              "      <th>high</th>\n",
              "      <th>low</th>\n",
              "      <th>close</th>\n",
              "      <th>value</th>\n",
              "    </tr>\n",
              "    <tr>\n",
              "      <th>dt</th>\n",
              "      <th></th>\n",
              "      <th></th>\n",
              "      <th></th>\n",
              "      <th></th>\n",
              "      <th></th>\n",
              "    </tr>\n",
              "  </thead>\n",
              "  <tbody>\n",
              "    <tr>\n",
              "      <th>2018-01-03</th>\n",
              "      <td>253.4</td>\n",
              "      <td>256.8</td>\n",
              "      <td>253.0</td>\n",
              "      <td>255.4</td>\n",
              "      <td>190253754.0</td>\n",
              "    </tr>\n",
              "    <tr>\n",
              "      <th>2018-01-04</th>\n",
              "      <td>255.4</td>\n",
              "      <td>255.4</td>\n",
              "      <td>253.0</td>\n",
              "      <td>255.0</td>\n",
              "      <td>157152856.0</td>\n",
              "    </tr>\n",
              "    <tr>\n",
              "      <th>2018-01-05</th>\n",
              "      <td>255.6</td>\n",
              "      <td>257.4</td>\n",
              "      <td>255.0</td>\n",
              "      <td>255.0</td>\n",
              "      <td>242201952.0</td>\n",
              "    </tr>\n",
              "    <tr>\n",
              "      <th>2018-01-08</th>\n",
              "      <td>257.4</td>\n",
              "      <td>259.0</td>\n",
              "      <td>253.4</td>\n",
              "      <td>256.0</td>\n",
              "      <td>216069242.0</td>\n",
              "    </tr>\n",
              "    <tr>\n",
              "      <th>2018-01-09</th>\n",
              "      <td>256.0</td>\n",
              "      <td>258.0</td>\n",
              "      <td>255.0</td>\n",
              "      <td>255.8</td>\n",
              "      <td>250188588.0</td>\n",
              "    </tr>\n",
              "  </tbody>\n",
              "</table>\n",
              "</div>"
            ],
            "text/plain": [
              "             open   high    low  close        value\n",
              "dt                                                 \n",
              "2018-01-03  253.4  256.8  253.0  255.4  190253754.0\n",
              "2018-01-04  255.4  255.4  253.0  255.0  157152856.0\n",
              "2018-01-05  255.6  257.4  255.0  255.0  242201952.0\n",
              "2018-01-08  257.4  259.0  253.4  256.0  216069242.0\n",
              "2018-01-09  256.0  258.0  255.0  255.8  250188588.0"
            ]
          },
          "metadata": {
            "tags": []
          },
          "execution_count": 3
        }
      ]
    },
    {
      "cell_type": "markdown",
      "metadata": {
        "id": "t3J0y8tApNPg",
        "colab_type": "text"
      },
      "source": [
        "# Plot daily closing prices"
      ]
    },
    {
      "cell_type": "code",
      "metadata": {
        "id": "_kyvYm6LsOAu",
        "colab_type": "code",
        "outputId": "d84e0f99-aba9-4fb0-8e4e-36f18ac769b8",
        "colab": {
          "base_uri": "https://localhost:8080/",
          "height": 435
        }
      },
      "source": [
        "from matplotlib import pyplot as plt\n",
        "df.close.plot(figsize=(10, 6))\n",
        "plt.title(\"Daily Closing Prices of JFC\\nfrom 2018-01-01 to 2019-01-01\", fontsize=20)"
      ],
      "execution_count": 0,
      "outputs": [
        {
          "output_type": "execute_result",
          "data": {
            "text/plain": [
              "Text(0.5, 1.0, 'Daily Closing Prices of JFC\\nfrom 2018-01-01 to 2019-01-01')"
            ]
          },
          "metadata": {
            "tags": []
          },
          "execution_count": 4
        },
        {
          "output_type": "display_data",
          "data": {
            "image/png": "[encoded data removed]",
            "text/plain": [
              "<Figure size 720x432 with 1 Axes>"
            ]
          },
          "metadata": {
            "tags": []
          }
        }
      ]
    },
    {
      "cell_type": "markdown",
      "metadata": {
        "id": "reBMiCPipO8O",
        "colab_type": "text"
      },
      "source": [
        "# Analyze with a simple moving average (SMA) trading strategy"
      ]
    },
    {
      "cell_type": "code",
      "metadata": {
        "id": "5UNQLarRs7Uv",
        "colab_type": "code",
        "colab": {}
      },
      "source": [
        "ma30 = df.close.rolling(30).mean()\n",
        "close_ma30 = pd.concat([df.close, ma30], axis=1).dropna()\n",
        "close_ma30.columns = ['Closing Price', 'Simple Moving Average (30 day)']\n",
        "\n",
        "close_ma30.plot(figsize=(10, 6))\n",
        "plt.title(\"Daily Closing Prices vs 30 day SMA of JFC\\nfrom 2018-01-01 to 2019-01-01\", fontsize=20)"
      ],
      "execution_count": 0,
      "outputs": []
    },
    {
      "cell_type": "code",
      "metadata": {
        "id": "q3hEimZIo0dO",
        "colab_type": "code",
        "colab": {}
      },
      "source": [
        ""
      ],
      "execution_count": 0,
      "outputs": []
    }
  ]
}